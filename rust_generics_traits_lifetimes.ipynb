{
 "cells": [
  {
   "cell_type": "code",
   "execution_count": null,
   "id": "502a2b6b",
   "metadata": {
    "slideshow": {
     "slide_type": "slide"
    }
   },
   "outputs": [],
   "source": [
    "#![allow(unused_variables)] \n",
    "\n",
    "use std::option::Option;\n",
    "\n",
    "\n",
    "fn type_of<T>(_: &T) {\n",
    "    println!(\"{}\", std::any::type_name::<T>())\n",
    "}\n"
   ]
  },
  {
   "cell_type": "markdown",
   "id": "ab252b3c",
   "metadata": {
    "slideshow": {
     "slide_type": "slide"
    }
   },
   "source": [
    "\n",
    "<center><h1>If you'd like to follow along:</h1></center>\n",
    "\n",
    "#### 1. Download this repo\n",
    "`https://github.com/brown-ccv/quick_rust_intro.git`\n",
    "\n",
    "#### 2. Install JupyterLab\n",
    "`pip3 install jupyterlab`\n",
    "\n",
    "#### 3. Install Rust \n",
    " `curl --proto '=https' --tlsv1.2 -sSf https://sh.rustup.rs | sh`\n",
    "\n",
    "#### 4. Install `evcxr_jupyter`\n",
    "\n",
    "`https://github.com/google/evcxr/tree/main/evcxr_jupyter`"
   ]
  },
  {
   "cell_type": "markdown",
   "id": "128e1250",
   "metadata": {
    "slideshow": {
     "slide_type": "slide"
    }
   },
   "source": [
    "<center><h1>Generics, Traits, and Lifetimes in Rust</h1></center>\n",
    "\n",
    "<center><h3>Paul Stey</h3></center>\n",
    "\n",
    "<center><img src=\"img/happy-rustacean.png\" width=420/></center>"
   ]
  },
  {
   "cell_type": "markdown",
   "id": "8ef92572",
   "metadata": {
    "slideshow": {
     "slide_type": "subslide"
    }
   },
   "source": [
    "# What is Rust?\n",
    "\n",
    "  - Started as a \"systems\" programming language\n",
    "  - Compiled (using LLVM intermediate representation)\n",
    "  - Statically typed\n",
    "  - Strongly typed\n",
    "  - Very fast"
   ]
  },
  {
   "cell_type": "markdown",
   "id": "8c62d351",
   "metadata": {
    "slideshow": {
     "slide_type": "slide"
    }
   },
   "source": [
    "<center><h1>Generics</h1></center>"
   ]
  },
  {
   "cell_type": "markdown",
   "id": "79eade52",
   "metadata": {
    "slideshow": {
     "slide_type": "fragment"
    }
   },
   "source": [
    "* Support for generic data types eliminate the need for repetive code.\n",
    "* Ease burden of maintenance\n",
    "\n",
    "<center><img src=\"img/ferris_hardhat.png\" width=320/></center>"
   ]
  },
  {
   "cell_type": "code",
   "execution_count": null,
   "id": "65f3340f",
   "metadata": {
    "slideshow": {
     "slide_type": "subslide"
    }
   },
   "outputs": [],
   "source": [
    "fn largest_i32(list: &[i32]) -> i32 {\n",
    "    let mut largest = list[0];\n",
    "\n",
    "    for &item in list {\n",
    "        if item > largest {\n",
    "            largest = item;\n",
    "        }\n",
    "    }\n",
    "\n",
    "    largest\n",
    "}"
   ]
  },
  {
   "cell_type": "code",
   "execution_count": null,
   "id": "3f6bd62a",
   "metadata": {
    "slideshow": {
     "slide_type": "fragment"
    }
   },
   "outputs": [],
   "source": [
    "let int_arr = [2, 44, 154555, 66, 790, 3232, 43430];\n",
    "\n",
    "largest_i32(&int_arr)"
   ]
  },
  {
   "cell_type": "code",
   "execution_count": null,
   "id": "ad9c55f7",
   "metadata": {
    "slideshow": {
     "slide_type": "fragment"
    }
   },
   "outputs": [],
   "source": [
    "let float_arr = [33.2, 54.6, 9545.3, 883.32];\n",
    "\n",
    "largest_i32(&float_arr)          // ERROR: mismatched types"
   ]
  },
  {
   "cell_type": "code",
   "execution_count": null,
   "id": "0da979e4",
   "metadata": {
    "slideshow": {
     "slide_type": "subslide"
    }
   },
   "outputs": [],
   "source": [
    "fn largest_f64(list: &[f64]) -> f64 {\n",
    "    let mut largest = list[0];\n",
    "\n",
    "    for &item in list {\n",
    "        if item > largest {\n",
    "            largest = item;\n",
    "        }\n",
    "    }\n",
    "\n",
    "    largest\n",
    "}"
   ]
  },
  {
   "cell_type": "code",
   "execution_count": null,
   "id": "4ed9ec38",
   "metadata": {
    "slideshow": {
     "slide_type": "fragment"
    }
   },
   "outputs": [],
   "source": [
    "let float_arr = [33.2, 54.6, 119545.3, 883.32];\n",
    "\n",
    "largest_f64(&float_arr)   // Success!"
   ]
  },
  {
   "cell_type": "code",
   "execution_count": null,
   "id": "2fd27005",
   "metadata": {
    "slideshow": {
     "slide_type": "subslide"
    }
   },
   "outputs": [],
   "source": [
    "fn largest_char(list: &[char]) -> char {\n",
    "    let mut largest = list[0];\n",
    "\n",
    "    for &item in list {\n",
    "        if item > largest {\n",
    "            largest = item;\n",
    "        }\n",
    "    }\n",
    "\n",
    "    \n",
    "    largest\n",
    "}"
   ]
  },
  {
   "cell_type": "code",
   "execution_count": null,
   "id": "d9213409",
   "metadata": {
    "slideshow": {
     "slide_type": "fragment"
    }
   },
   "outputs": [],
   "source": [
    "let char_list = vec!['z', 'm', 'a', 'q'];\n",
    "\n",
    "largest_char(&char_list)"
   ]
  },
  {
   "cell_type": "markdown",
   "id": "bd8d8aae",
   "metadata": {
    "slideshow": {
     "slide_type": "subslide"
    }
   },
   "source": [
    "## Generics Example\n",
    "\n",
    "* This version _almost_ works, and the compiler will tell us the fix"
   ]
  },
  {
   "cell_type": "code",
   "execution_count": null,
   "id": "47a5645b",
   "metadata": {
    "slideshow": {
     "slide_type": "-"
    }
   },
   "outputs": [],
   "source": [
    "fn largest<T>(list: &[T]) -> T {\n",
    "    let mut largest = list[0];\n",
    "\n",
    "    for &item in list {\n",
    "        if item > largest {\n",
    "            largest = item;\n",
    "        }\n",
    "    }\n",
    "\n",
    "    largest\n",
    "}\n"
   ]
  },
  {
   "cell_type": "markdown",
   "id": "a0f06061",
   "metadata": {
    "slideshow": {
     "slide_type": "subslide"
    }
   },
   "source": [
    "<center><img src=\"img/python.png\" width=1280/></center>"
   ]
  },
  {
   "cell_type": "markdown",
   "id": "80e2f70a",
   "metadata": {
    "slideshow": {
     "slide_type": "subslide"
    }
   },
   "source": [
    "<center><img src=\"img/js.png\" width=1080/></center>"
   ]
  },
  {
   "cell_type": "markdown",
   "id": "ff8a07f1",
   "metadata": {
    "slideshow": {
     "slide_type": "subslide"
    }
   },
   "source": [
    "## Generics in `struct` Definitions"
   ]
  },
  {
   "cell_type": "code",
   "execution_count": null,
   "id": "7275bca1",
   "metadata": {
    "slideshow": {
     "slide_type": "-"
    }
   },
   "outputs": [],
   "source": [
    "struct Point<T> {\n",
    "    x: T,\n",
    "    y: T,\n",
    "}\n",
    "\n",
    "\n",
    "let integer = Point { x: 5, y: 10 };\n",
    "let float = Point { x: 1.0, y: 4.0 };\n",
    "\n",
    "type_of(&integer);\n",
    "type_of(&float);"
   ]
  },
  {
   "cell_type": "markdown",
   "id": "88fe1fb2",
   "metadata": {
    "slideshow": {
     "slide_type": "subslide"
    }
   },
   "source": [
    "### Multiple Generic Parameters"
   ]
  },
  {
   "cell_type": "code",
   "execution_count": null,
   "id": "ff8c3289",
   "metadata": {
    "slideshow": {
     "slide_type": "-"
    }
   },
   "outputs": [],
   "source": [
    "struct Point<T, U> {\n",
    "    x: T,\n",
    "    y: U,\n",
    "}\n",
    "\n",
    "fn test() {\n",
    "    let both_integer = Point { x: 5, y: 10 };\n",
    "    let both_float = Point { x: 1.0, y: 4.0 };\n",
    "    let integer_and_float = Point { x: 5, y: 4.0 };\n",
    "}"
   ]
  },
  {
   "cell_type": "markdown",
   "id": "cdcf3436",
   "metadata": {
    "slideshow": {
     "slide_type": "subslide"
    }
   },
   "source": [
    "## Implementing Methods with Generics"
   ]
  },
  {
   "cell_type": "code",
   "execution_count": null,
   "id": "bf6c602e",
   "metadata": {
    "slideshow": {
     "slide_type": "-"
    }
   },
   "outputs": [],
   "source": [
    "struct Point<T> {\n",
    "    x: T,\n",
    "    y: T,\n",
    "}\n",
    "\n",
    "impl<T> Point<T> {\n",
    "    fn x(&self) -> &T {\n",
    "        &self.x\n",
    "    }\n",
    "    \n",
    "    fn y(&self) -> &T {\n",
    "        &self.y\n",
    "    }\n",
    "}\n",
    "\n",
    "\n",
    "let p = Point { x: 5, y: 10 };\n",
    "\n",
    "println!(\"p.x = {}\", p.x());\n",
    "\n",
    "println!(\"p.y = {}\", p.y());\n"
   ]
  },
  {
   "cell_type": "markdown",
   "id": "0a5e7e1f",
   "metadata": {
    "slideshow": {
     "slide_type": "subslide"
    }
   },
   "source": [
    "<center><h1>Traits</h1></center>"
   ]
  },
  {
   "cell_type": "markdown",
   "id": "13d2fd22",
   "metadata": {
    "slideshow": {
     "slide_type": "fragment"
    }
   },
   "source": [
    "* Traits in Rust are a mechanism for defining shared behavior\n",
    "* Similar to \"interfaces\" in other languages (e.g., Go, Java, Kotlin)\n",
    "* \"A trait describes an abstract interface that types can implement.\"[5]\n",
    "* A trait is a set of behaviors (i.e., methods) "
   ]
  },
  {
   "cell_type": "markdown",
   "id": "a0de3c32",
   "metadata": {
    "slideshow": {
     "slide_type": "subslide"
    }
   },
   "source": [
    "## Defining a Trait\n",
    "\n",
    "* Type’s behavior consists of the methods we can call on that type \n",
    "* Different types share the same behavior if we can call the same methods on those types\n",
    "* Trait definitions are a way to group method signatures together to define a set of behaviors that accomplish some purpose"
   ]
  },
  {
   "cell_type": "markdown",
   "id": "9bcb2b9c",
   "metadata": {
    "slideshow": {
     "slide_type": "subslide"
    }
   },
   "source": [
    "<center><h3>Example: News aggregator</h3></center>"
   ]
  },
  {
   "cell_type": "markdown",
   "id": "0376d65d",
   "metadata": {
    "slideshow": {
     "slide_type": "subslide"
    }
   },
   "source": [
    "### 8.3.1 Traits and Generics\n",
    "\n",
    "* Important relationship between these\n",
    "* Often need generics that implement one or more traits\n",
    "  - Referred to as \"trait bounds\"\n",
    "  \n",
    "  \n",
    "<center><img src=\"img/ferris_circle.png\" width=720/></center>"
   ]
  },
  {
   "cell_type": "markdown",
   "id": "eb00c158",
   "metadata": {
    "slideshow": {
     "slide_type": "subslide"
    }
   },
   "source": [
    "### Fixing our Previous `largest()` Function"
   ]
  },
  {
   "cell_type": "code",
   "execution_count": null,
   "id": "1005f48f",
   "metadata": {
    "slideshow": {
     "slide_type": "-"
    }
   },
   "outputs": [],
   "source": [
    "fn largest<T>(list: &[T]) -> T {\n",
    "    let mut largest = list[0];\n",
    "\n",
    "    for &item in list {\n",
    "        if item > largest {\n",
    "            largest = item;\n",
    "        }\n",
    "    }\n",
    "\n",
    "    largest\n",
    "}"
   ]
  },
  {
   "cell_type": "code",
   "execution_count": null,
   "id": "8865cef9",
   "metadata": {
    "slideshow": {
     "slide_type": "subslide"
    }
   },
   "outputs": [],
   "source": [
    "fn largest<T: PartialOrd + Copy>(list: &[T]) -> T {\n",
    "    let mut largest = list[0];\n",
    "\n",
    "    for &item in list {\n",
    "        if item > largest {\n",
    "            largest = item;\n",
    "        }\n",
    "    }\n",
    "\n",
    "    largest\n",
    "}"
   ]
  },
  {
   "cell_type": "code",
   "execution_count": null,
   "id": "56c8bcce",
   "metadata": {
    "slideshow": {
     "slide_type": "fragment"
    }
   },
   "outputs": [],
   "source": [
    "let number_list = vec![34, 50, 25, 100, 65];\n",
    "\n",
    "let result = largest(&number_list);\n",
    "println!(\"The largest number is {}\", result);\n",
    "\n",
    "let char_list = vec!['y', 'm', 'a', 'q'];\n",
    "\n",
    "let result = largest(&char_list);\n",
    "println!(\"The largest char is {}\", result);"
   ]
  },
  {
   "cell_type": "markdown",
   "id": "0800a62b",
   "metadata": {
    "slideshow": {
     "slide_type": "subslide"
    }
   },
   "source": [
    "## Default Implementation\n",
    "\n",
    "* We can also define default implentations of trait methods\n",
    "* These defaults can be overridden "
   ]
  },
  {
   "cell_type": "code",
   "execution_count": null,
   "id": "6b667d33",
   "metadata": {
    "slideshow": {
     "slide_type": "-"
    }
   },
   "outputs": [],
   "source": [
    "trait Summary {\n",
    "    fn summarize(&self) -> String {            //\n",
    "        format!(\"It's fine...\")                // default implementation of this method\n",
    "    }                                          //\n",
    "    \n",
    "    fn summarize_author(&self) -> String;      // no default\n",
    "}\n"
   ]
  },
  {
   "cell_type": "markdown",
   "id": "81c95bf2",
   "metadata": {},
   "source": [
    "### Default Implementation (cont.)\n",
    "\n",
    "Our defuault implementations can call other methods in the same trait."
   ]
  },
  {
   "cell_type": "code",
   "execution_count": null,
   "id": "ce173dd2",
   "metadata": {},
   "outputs": [],
   "source": [
    "trait Summary {\n",
    "    fn summarize(&self) -> String {\n",
    "        format!(\"(Read more from {}...)\", self.summarize_author())\n",
    "    }\n",
    "    \n",
    "    fn summarize_author(&self) -> String;\n",
    "}\n"
   ]
  },
  {
   "cell_type": "markdown",
   "id": "192128f1",
   "metadata": {
    "slideshow": {
     "slide_type": "subslide"
    }
   },
   "source": [
    "## Traits as Function Parameters"
   ]
  },
  {
   "cell_type": "code",
   "execution_count": null,
   "id": "8f76a45d",
   "metadata": {
    "slideshow": {
     "slide_type": "-"
    }
   },
   "outputs": [],
   "source": [
    "fn notify(item: &impl Summary) {\n",
    "    println!(\"Breaking news! {}\", item.summarize());\n",
    "}"
   ]
  },
  {
   "cell_type": "code",
   "execution_count": null,
   "id": "3c4ce12a",
   "metadata": {
    "slideshow": {
     "slide_type": "fragment"
    }
   },
   "outputs": [],
   "source": [
    "fn notify<T: Summary>(item: &T) {\n",
    "    println!(\"Breaking news! {}\", item.summarize());\n",
    "}"
   ]
  },
  {
   "cell_type": "markdown",
   "id": "cc95fffd",
   "metadata": {
    "slideshow": {
     "slide_type": "subslide"
    }
   },
   "source": [
    "### Specifying Multiple Traits Bounds\n",
    "\n",
    "Can use `+` to specify multiple trait bounds"
   ]
  },
  {
   "cell_type": "code",
   "execution_count": null,
   "id": "9b010759",
   "metadata": {
    "slideshow": {
     "slide_type": "-"
    }
   },
   "outputs": [],
   "source": [
    "\n",
    "fn notify(item: &(impl Summary + Copy)) { \n",
    "    todo!() \n",
    "}"
   ]
  },
  {
   "cell_type": "code",
   "execution_count": null,
   "id": "1a639fda",
   "metadata": {
    "slideshow": {
     "slide_type": "fragment"
    }
   },
   "outputs": [],
   "source": [
    "fn notify<T: Summary + Copy>(item: &T) { \n",
    "    todo!() \n",
    "}"
   ]
  },
  {
   "cell_type": "markdown",
   "id": "91a2d009",
   "metadata": {
    "slideshow": {
     "slide_type": "subslide"
    }
   },
   "source": [
    "## Clearer Trait Bounds with `where` Clauses\n",
    "\n",
    "Once we have multiple generic types with multiple trait bounds, it can get noisy. "
   ]
  },
  {
   "cell_type": "code",
   "execution_count": null,
   "id": "7c335a1b",
   "metadata": {
    "slideshow": {
     "slide_type": "-"
    }
   },
   "outputs": [],
   "source": [
    "fn some_function<T: Display + Clone, U: Clone + Summary>(t: &T, u: &U) -> i32 { \n",
    "    todo!() \n",
    "}"
   ]
  },
  {
   "cell_type": "code",
   "execution_count": null,
   "id": "b8c3274f",
   "metadata": {
    "slideshow": {
     "slide_type": "fragment"
    }
   },
   "outputs": [],
   "source": [
    "fn some_function<T, U>(t: &T, u: &U) -> i32\n",
    "where\n",
    "    T: Display + Clone,\n",
    "    U: Clone + Summary,\n",
    "{\n",
    "    todo!()\n",
    "}"
   ]
  },
  {
   "cell_type": "markdown",
   "id": "84e83721",
   "metadata": {
    "slideshow": {
     "slide_type": "slide"
    }
   },
   "source": [
    "<center><h1>Lifetimes</h1></center>"
   ]
  },
  {
   "cell_type": "markdown",
   "id": "4018478a",
   "metadata": {
    "slideshow": {
     "slide_type": "fragment"
    }
   },
   "source": [
    "* One of the more challenging concepts in Rust\n",
    "* Lifetimes prevent dangling references\n",
    "  - Thus eliminating entire category of bugs\n",
    "* Every reference has a lifetime \n",
    "* A lifetime is the scope for which a reference is valid\n",
    "* Sometimes need to specify lifetime parameters for functions or structs"
   ]
  },
  {
   "cell_type": "code",
   "execution_count": null,
   "id": "97828819",
   "metadata": {
    "slideshow": {
     "slide_type": "subslide"
    }
   },
   "outputs": [],
   "source": [
    "{\n",
    "    let r;\n",
    "\n",
    "    {\n",
    "        let x = 5;\n",
    "        r = &x;\n",
    "    }\n",
    "\n",
    "    println!(\"r: {}\", r);         // Error: x has already been dropped\n",
    "}"
   ]
  },
  {
   "cell_type": "code",
   "execution_count": null,
   "id": "53e74065",
   "metadata": {
    "slideshow": {
     "slide_type": "subslide"
    }
   },
   "outputs": [],
   "source": [
    "{\n",
    "    let r;                // ---------+-- 'a\n",
    "                          //          |\n",
    "    {                     //          |\n",
    "        let x = 5;        // -+-- 'b  |\n",
    "        r = &x;           //  |       |\n",
    "    }                     // -+       |\n",
    "                          //          |\n",
    "    println!(\"r: {}\", r); //          |\n",
    "}                         // ---------+"
   ]
  },
  {
   "cell_type": "code",
   "execution_count": null,
   "id": "3f9befee",
   "metadata": {
    "slideshow": {
     "slide_type": "skip"
    }
   },
   "outputs": [],
   "source": [
    "{\n",
    "    let x = 5;            // ----------+-- 'b\n",
    "                          //           |\n",
    "    let r = &x;           // --+-- 'a  |\n",
    "                          //   |       |\n",
    "    println!(\"r: {}\", r); //   |       |\n",
    "                          // --+       |\n",
    "}                         // ----------+\n"
   ]
  },
  {
   "cell_type": "markdown",
   "id": "f0cfb6f0",
   "metadata": {
    "slideshow": {
     "slide_type": "subslide"
    }
   },
   "source": [
    "## Generic Lifetimes in Functions\n",
    "\n",
    "* In some cases, lifetime annotations are needed as part of function definitions\n"
   ]
  },
  {
   "cell_type": "code",
   "execution_count": null,
   "id": "c2ca5b6e",
   "metadata": {
    "slideshow": {
     "slide_type": "subslide"
    }
   },
   "outputs": [],
   "source": [
    "fn longest(x: &str, y: &str) -> &str {\n",
    "    if x.len() > y.len() {\n",
    "        x\n",
    "    } else {\n",
    "        y\n",
    "    }\n",
    "}\n",
    "\n",
    "fn testing() {\n",
    "    let string1 = \"abcd\";\n",
    "    let string2 = \"xyz\";\n",
    "\n",
    "    let result = longest(string1, string2);\n",
    "    println!(\"The longest string is {}\", result);\n",
    "}"
   ]
  },
  {
   "cell_type": "markdown",
   "id": "f771f6e4",
   "metadata": {
    "slideshow": {
     "slide_type": "subslide"
    }
   },
   "source": [
    "### Lifetime Annotation Syntax\n",
    "\n",
    "* The lifetime annontation syntax is a bit odd\n",
    "* The convention is to use (for example) `'a`, `'b`, `'c` etc as annotations"
   ]
  },
  {
   "cell_type": "code",
   "execution_count": null,
   "id": "7c4da990",
   "metadata": {
    "slideshow": {
     "slide_type": "-"
    }
   },
   "outputs": [],
   "source": [
    "&i32        // a reference\n",
    "&'a i32     // a reference with an explicit lifetime\n",
    "&'a mut i32 // a mutable reference with an explicit lifetime\n"
   ]
  },
  {
   "cell_type": "markdown",
   "id": "e2e008e7",
   "metadata": {
    "slideshow": {
     "slide_type": "subslide"
    }
   },
   "source": [
    "## Fixing our `longest()` Function"
   ]
  },
  {
   "cell_type": "code",
   "execution_count": null,
   "id": "d9de0e83",
   "metadata": {
    "slideshow": {
     "slide_type": "-"
    }
   },
   "outputs": [],
   "source": [
    "fn longest<'a>(x: &'a str, y: &'a str) -> &'a str {\n",
    "    if x.len() > y.len() {\n",
    "        x\n",
    "    } else {\n",
    "        y\n",
    "    }\n",
    "}\n",
    "\n",
    "fn testing() {\n",
    "    let string1 = \"abcd\";\n",
    "    let string2 = \"xyz\";\n",
    "\n",
    "    let result = longest(string1, string2);\n",
    "    println!(\"The longest string is {}\", result);\n",
    "}\n",
    "\n",
    "testing()"
   ]
  },
  {
   "cell_type": "markdown",
   "id": "245fbb4a",
   "metadata": {
    "slideshow": {
     "slide_type": "subslide"
    }
   },
   "source": [
    "## A Note on Lifetimes\n",
    "\n",
    "* Lifetime annotations do _NOT_ change how long any of the references live. \n",
    "* Rather, they describe the relationships of the lifetimes of multiple references to each other without affecting the lifetimes. \n",
    "* Put differently, we’re telling the borrow checker to reject any values that don’t adhere to these constraints.[1]"
   ]
  },
  {
   "cell_type": "markdown",
   "id": "26b5a65c",
   "metadata": {
    "slideshow": {
     "slide_type": "subslide"
    }
   },
   "source": [
    "**Question:** Variables `x`, `y`, and the returned value all have generic lifetime annotation `'a`; so, do they all have the same lifetime?\n",
    "\n",
    "**Answer:** No! Generic lifetime annotations don't _change_ how long references live; they describe _relationships_ between lifetimes of multiple references. That relationship is this: _The lifetime of the returned reference will be the same as the smallest lifetime of the arguments._"
   ]
  },
  {
   "cell_type": "code",
   "execution_count": null,
   "id": "0c85537b",
   "metadata": {
    "slideshow": {
     "slide_type": "-"
    }
   },
   "outputs": [],
   "source": [
    "fn longest<'a>(x: &'a str, y: &'a str) -> &'a str {\n",
    "    if x.len() > y.len() {\n",
    "        x\n",
    "    } else {\n",
    "        y\n",
    "    }\n",
    "}\n"
   ]
  },
  {
   "cell_type": "code",
   "execution_count": null,
   "id": "045854bb",
   "metadata": {
    "slideshow": {
     "slide_type": "subslide"
    }
   },
   "outputs": [],
   "source": [
    "fn longest<'a>(x: &'a str, y: &'a str) -> &'a str {\n",
    "    if x.len() > y.len() {\n",
    "        x\n",
    "    } else {\n",
    "        y\n",
    "    }\n",
    "}\n",
    "\n",
    "fn testing() {\n",
    "    let string1 = String::from(\"abcd\");\n",
    "    let result;\n",
    "\n",
    "    {\n",
    "        let string2 = String::from(\"xyz\");\n",
    "\n",
    "        result = longest(&string1, &string2);\n",
    "    }\n",
    "    \n",
    "    println!(\"The longest string is {}\", result);\n",
    "}\n",
    "testing()"
   ]
  },
  {
   "cell_type": "markdown",
   "id": "54c25123",
   "metadata": {
    "slideshow": {
     "slide_type": "subslide"
    }
   },
   "source": [
    "**Question:** Why does the code below compile without error?"
   ]
  },
  {
   "cell_type": "code",
   "execution_count": null,
   "id": "8435ee2e",
   "metadata": {
    "slideshow": {
     "slide_type": "-"
    }
   },
   "outputs": [],
   "source": [
    "fn longest<'a>(x: &'a str, y: &'a str) -> &'a str {\n",
    "    if x.len() > y.len() {\n",
    "        x\n",
    "    } else {\n",
    "        y\n",
    "    }\n",
    "}\n",
    "\n",
    "fn testing() {\n",
    "    let string1 = \"abcd\";\n",
    "    let result;\n",
    "\n",
    "    {                                        // -------+\n",
    "        let string2 = \"xyz\";                 //        |\n",
    "                                             //        | Isn't this the lifetime of a reference to `string2`?\n",
    "        result = longest(string1, string2);  //        |\n",
    "    }                                        // -------+\n",
    "    \n",
    "    println!(\"The longest string is {}\", result);\n",
    "}\n",
    "testing()"
   ]
  },
  {
   "cell_type": "markdown",
   "id": "fc6d2d3e",
   "metadata": {
    "slideshow": {
     "slide_type": "subslide"
    }
   },
   "source": [
    "## Lifetime Elision\n",
    "\n",
    "* Rust has a set of \"lifetime elision\" rules\n",
    "* In practice, these rules mean we don't often have to do lifetime annotation"
   ]
  },
  {
   "cell_type": "code",
   "execution_count": null,
   "id": "a0f6e368",
   "metadata": {
    "slideshow": {
     "slide_type": "fragment"
    }
   },
   "outputs": [],
   "source": [
    "fn first_word(s: &str) -> &str {\n",
    "    let char_iter = s.chars();\n",
    "\n",
    "    for (i, item) in char_iter.enumerate() {\n",
    "        if item == ' ' {\n",
    "            return &s[0..i];\n",
    "        }\n",
    "    }\n",
    "\n",
    "    &s[..]\n",
    "}"
   ]
  },
  {
   "cell_type": "code",
   "execution_count": null,
   "id": "74f7e884",
   "metadata": {
    "slideshow": {
     "slide_type": "fragment"
    }
   },
   "outputs": [],
   "source": [
    "fn check() {\n",
    "    let my_string_literal = \"hello world\";\n",
    "    \n",
    "    let word = first_word(my_string_literal);\n",
    "    println!(\"{}\", word);\n",
    "}\n",
    "\n",
    "check()"
   ]
  },
  {
   "cell_type": "markdown",
   "id": "43c663ac",
   "metadata": {
    "slideshow": {
     "slide_type": "slide"
    }
   },
   "source": [
    "<center><h1>Thank you!!</h1></center>\n",
    "\n",
    "<center><img src=\"img/happy-rustacean.png\" width=320/></center>"
   ]
  },
  {
   "cell_type": "markdown",
   "id": "1b693fa0",
   "metadata": {
    "slideshow": {
     "slide_type": "slide"
    }
   },
   "source": [
    "<center><h1>References</h1></center>\n",
    "\n",
    "[1] Klabnik, S. & Nichols, C. (2019). _The Rust Programming Language_\n",
    "\n",
    "[2] Cimpanu, C. (2019). _Microsoft: 70 percent of all security bugs are memory safety issues_ `https://www.zdnet.com/article/microsoft-70-percent-of-all-security-bugs-are-memory-safety-issues/`\n",
    "\n",
    "[3] StackOverflow, 2021 Developer Survey, `https://insights.stackoverflow.com/survey/2021`\n",
    "\n",
    "[4] Perkel, J.M. (2020). _Why Scientist are Turning to Rust_. Nature, 588. `https://www.nature.com/articles/d41586-020-03382-2`\n",
    "\n",
    "[5] Sheel, R. & Huss, E. (2022) _The Rust Reference_ `https://doc.rust-lang.org/reference/items/traits.html`"
   ]
  }
 ],
 "metadata": {
  "@webio": {
   "lastCommId": null,
   "lastKernelId": null
  },
  "celltoolbar": "Slideshow",
  "kernelspec": {
   "display_name": "Rust",
   "language": "rust",
   "name": "rust"
  },
  "language_info": {
   "codemirror_mode": "rust",
   "file_extension": ".rs",
   "mimetype": "text/rust",
   "name": "Rust",
   "pygment_lexer": "rust",
   "version": ""
  }
 },
 "nbformat": 4,
 "nbformat_minor": 5
}
